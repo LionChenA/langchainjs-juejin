{
 "cells": [
  {
   "cell_type": "code",
   "execution_count": null,
   "id": "3c1cf485-8f84-4d3b-ba4c-dad163f29c16",
   "metadata": {},
   "outputs": [],
   "source": [
    "// const text = await Deno.readTextFile(\"./data/qiu.txt\");\n",
    "const text = \"abc\""
   ]
  },
  {
   "cell_type": "code",
   "execution_count": null,
   "id": "85e2ae92-cad9-4b5a-96a5-0e888262f1a6",
   "metadata": {},
   "outputs": [],
   "source": [
    "text"
   ]
  },
  {
   "cell_type": "code",
   "execution_count": null,
   "id": "7461d3b1-ed9c-47db-afcd-4609934fe82f",
   "metadata": {},
   "outputs": [],
   "source": [
    "const lines = text.split(\"\\r\")\n",
    "lines"
   ]
  },
  {
   "cell_type": "markdown",
   "id": "49a0ec0f-10d9-47ee-b22e-600fd08bcacf",
   "metadata": {},
   "source": [
    "# Deno 测试"
   ]
  },
  {
   "cell_type": "code",
   "execution_count": null,
   "id": "c3caefb0",
   "metadata": {},
   "outputs": [],
   "source": [
    "import _ from \"npm:/lodash@4.17.21\""
   ]
  },
  {
   "cell_type": "code",
   "execution_count": null,
   "id": "e2b01b50",
   "metadata": {},
   "outputs": [],
   "source": [
    "const a = _.random(0, 5);\n",
    "a"
   ]
  },
  {
   "cell_type": "code",
   "execution_count": null,
   "id": "96d7b455",
   "metadata": {},
   "outputs": [],
   "source": [
    "import _ from \"lodash\"\n",
    "\n",
    "const a = _.random(0, 5);\n",
    "a"
   ]
  }
 ],
 "metadata": {
  "kernelspec": {
   "display_name": "Deno",
   "language": "typescript",
   "name": "deno"
  },
  "language_info": {
   "file_extension": ".ts",
   "mimetype": "text/x.typescript",
   "name": "typescript",
   "nb_converter": "script",
   "pygments_lexer": "typescript",
   "version": "5.3.3"
  }
 },
 "nbformat": 4,
 "nbformat_minor": 5
}
