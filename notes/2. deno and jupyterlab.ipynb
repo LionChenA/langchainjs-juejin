{
 "cells": [
  {
   "cell_type": "markdown",
   "id": "ba07ea6b-ba67-46a3-9554-94d524a93ee8",
   "metadata": {},
   "source": [
    "安装 jupyter的 deno内核：执行`deno jupyter`"
   ]
  },
  {
   "cell_type": "code",
   "id": "1fb1ee43-a45d-4dca-938d-c8b8556ae923",
   "metadata": {
    "scrolled": true,
    "jupyter": {
     "is_executing": true
    }
   },
   "source": "const text = await Deno.readTextFile(\"../data/qiu.txt\"); //等待读取文件",
   "outputs": [],
   "execution_count": null
  },
  {
   "cell_type": "code",
   "id": "91190b22-a3a0-46c1-b125-239a5caedb29",
   "metadata": {
    "scrolled": true,
    "jupyter": {
     "is_executing": true
    }
   },
   "source": [
    "text"
   ],
   "outputs": [],
   "execution_count": null
  },
  {
   "cell_type": "markdown",
   "id": "d1f14a79-9ab7-4087-bb4e-fbe74375ff2d",
   "metadata": {},
   "source": [
    "在 Jupyter NoteBook 中，如果一个代码快只有一个变量，那就会自动把该变量显示出来，类似于 `console.log(单个变量)` 但又不一样，其中有些微妙的区别在使用中你会感受出来。所以，当运行完两个代码块之后，在 js 的环境中有了 text 这个变量。我们可以把这里的从 txt 文件读内容理解成一个耗时又耗钱的任务（就像 OpenAI API 一样），在运行完这个任务后，就会把结果储存在 text 中，后续就可以对 text 做任何测试，而不需要重复的从文件中读取。"
   ]
  },
  {
   "cell_type": "code",
   "id": "7461d3b1-ed9c-47db-afcd-4609934fe82f",
   "metadata": {
    "scrolled": true
   },
   "source": [
    "const lines = text.split(\"\\n\")\n",
    "lines"
   ],
   "outputs": [],
   "execution_count": null
  },
  {
   "cell_type": "markdown",
   "id": "49a0ec0f-10d9-47ee-b22e-600fd08bcacf",
   "metadata": {},
   "source": [
    "# Deno 测试"
   ]
  },
  {
   "cell_type": "code",
   "id": "c3caefb0",
   "metadata": {
    "scrolled": true
   },
   "source": [
    "import _ from \"npm:/lodash@4.17.21\""
   ],
   "outputs": [],
   "execution_count": null
  },
  {
   "cell_type": "code",
   "id": "e2b01b50",
   "metadata": {
    "scrolled": true
   },
   "source": [
    "const a = _.random(0, 5);\n",
    "a"
   ],
   "outputs": [],
   "execution_count": null
  },
  {
   "cell_type": "code",
   "id": "96d7b455",
   "metadata": {
    "scrolled": true
   },
   "source": [
    "import _ from \"lodash\"\n",
    "\n",
    "const a = _.random(0, 5);\n",
    "a"
   ],
   "outputs": [],
   "execution_count": null
  },
  {
   "cell_type": "code",
   "id": "79436bfc-f850-4b4b-bcca-b20560d6e1d4",
   "metadata": {},
   "source": [
    "text\n"
   ],
   "outputs": [],
   "execution_count": null
  }
 ],
 "metadata": {
  "kernelspec": {
   "display_name": "Deno",
   "language": "typescript",
   "name": "deno"
  },
  "language_info": {
   "codemirror_mode": "typescript",
   "file_extension": ".ts",
   "mimetype": "text/x.typescript",
   "name": "typescript",
   "nbconvert_exporter": "script",
   "pygments_lexer": "typescript",
   "version": "5.7.3"
  }
 },
 "nbformat": 4,
 "nbformat_minor": 5
}
